{
 "cells": [
  {
   "cell_type": "code",
   "execution_count": 1,
   "metadata": {},
   "outputs": [],
   "source": [
    "def welcome(name):\n",
    "  print(\"Hello, \" + name +\" to Analytics Vidhya\")\n",
    "\n",
    "#Variables in Python Modules\n",
    "#The module can contain functions, as already described, but can also contain variables of all types such as arrays, dictionaries, objects, etc.\n",
    "\n",
    "person1 = {\n",
    "    \"name\": \"Chirag Goyal\",\n",
    "    \"age\": 19,\n",
    "    \"country\": \"India\",\n",
    "    \"education\": \"IIT Jodhpur\",\n",
    "}       "
   ]
  },
  {
   "cell_type": "code",
   "execution_count": null,
   "metadata": {},
   "outputs": [],
   "source": []
  }
 ],
 "metadata": {
  "kernelspec": {
   "display_name": "Python 3 (ipykernel)",
   "language": "python",
   "name": "python3"
  },
  "language_info": {
   "codemirror_mode": {
    "name": "ipython",
    "version": 3
   },
   "file_extension": ".py",
   "mimetype": "text/x-python",
   "name": "python",
   "nbconvert_exporter": "python",
   "pygments_lexer": "ipython3",
   "version": "3.9.7"
  }
 },
 "nbformat": 4,
 "nbformat_minor": 2
}
